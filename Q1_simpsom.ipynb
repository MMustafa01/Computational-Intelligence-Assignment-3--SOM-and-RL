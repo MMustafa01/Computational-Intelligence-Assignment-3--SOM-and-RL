{
 "cells": [
  {
   "cell_type": "code",
   "execution_count": 1,
   "metadata": {},
   "outputs": [],
   "source": [
    "import pandas as pd\n",
    "from minisom import MiniSom\n",
    "import numpy as np\n",
    "import matplotlib.pyplot as plt"
   ]
  },
  {
   "cell_type": "code",
   "execution_count": 2,
   "metadata": {},
   "outputs": [],
   "source": [
    "# Load csv file\n",
    "data = pd.read_csv('Q1_countrydata.csv')"
   ]
  },
  {
   "cell_type": "code",
   "execution_count": 3,
   "metadata": {},
   "outputs": [],
   "source": [
    "# Extract the relevant columns\n",
    "X = data[['Confirmed', 'Deaths', 'Recovered']].values"
   ]
  },
  {
   "cell_type": "code",
   "execution_count": 4,
   "metadata": {},
   "outputs": [],
   "source": [
    "# Normalize data\n",
    "X = X / np.linalg.norm(X)"
   ]
  },
  {
   "cell_type": "code",
   "execution_count": 5,
   "metadata": {},
   "outputs": [],
   "source": [
    "# Initialize the SOM\n",
    "som = MiniSom(5, 5, 3, sigma=0.3, learning_rate=0.5)"
   ]
  },
  {
   "cell_type": "code",
   "execution_count": 9,
   "metadata": {},
   "outputs": [],
   "source": [
    "# Train the SOM\n",
    "som.train_random(X, 100)"
   ]
  },
  {
   "cell_type": "code",
   "execution_count": 12,
   "metadata": {},
   "outputs": [
    {
     "ename": "ValueError",
     "evalue": "The truth value of an array with more than one element is ambiguous. Use a.any() or a.all()",
     "output_type": "error",
     "traceback": [
      "\u001b[1;31m---------------------------------------------------------------------------\u001b[0m",
      "\u001b[1;31mValueError\u001b[0m                                Traceback (most recent call last)",
      "\u001b[1;32mc:\\Users\\NM TRADERS\\OneDrive - Habib University\\Documents\\HabibU\\13. 8th Semester\\CI\\Assignment03\\Q1_simpsom.ipynb Cell 7\u001b[0m line \u001b[0;36m5\n\u001b[0;32m      <a href='vscode-notebook-cell:/c%3A/Users/NM%20TRADERS/OneDrive%20-%20Habib%20University/Documents/HabibU/13.%208th%20Semester/CI/Assignment03/Q1_simpsom.ipynb#X10sZmlsZQ%3D%3D?line=2'>3</a>\u001b[0m \u001b[39m# plt.pcolor(som.distance_map().T, cmap='bone_r')\u001b[39;00m\n\u001b[0;32m      <a href='vscode-notebook-cell:/c%3A/Users/NM%20TRADERS/OneDrive%20-%20Habib%20University/Documents/HabibU/13.%208th%20Semester/CI/Assignment03/Q1_simpsom.ipynb#X10sZmlsZQ%3D%3D?line=3'>4</a>\u001b[0m \u001b[39mfor\u001b[39;00m (x, y, z), color \u001b[39min\u001b[39;00m \u001b[39mzip\u001b[39m(X, som\u001b[39m.\u001b[39mget_weights()):\n\u001b[1;32m----> <a href='vscode-notebook-cell:/c%3A/Users/NM%20TRADERS/OneDrive%20-%20Habib%20University/Documents/HabibU/13.%208th%20Semester/CI/Assignment03/Q1_simpsom.ipynb#X10sZmlsZQ%3D%3D?line=4'>5</a>\u001b[0m     plt\u001b[39m.\u001b[39mplot(color[\u001b[39m0\u001b[39m], color[\u001b[39m1\u001b[39m], color[\u001b[39m2\u001b[39m], \u001b[39m'\u001b[39m\u001b[39mo\u001b[39m\u001b[39m'\u001b[39m, color\u001b[39m=\u001b[39mplt\u001b[39m.\u001b[39mcm\u001b[39m.\u001b[39mrainbow(z \u001b[39m/\u001b[39m \u001b[39mmax\u001b[39;49m(X))[\u001b[39m0\u001b[39m])\n\u001b[0;32m      <a href='vscode-notebook-cell:/c%3A/Users/NM%20TRADERS/OneDrive%20-%20Habib%20University/Documents/HabibU/13.%208th%20Semester/CI/Assignment03/Q1_simpsom.ipynb#X10sZmlsZQ%3D%3D?line=5'>6</a>\u001b[0m plt\u001b[39m.\u001b[39mshow()\n",
      "\u001b[1;31mValueError\u001b[0m: The truth value of an array with more than one element is ambiguous. Use a.any() or a.all()"
     ]
    },
    {
     "data": {
      "text/plain": [
       "<Figure size 1000x1000 with 0 Axes>"
      ]
     },
     "metadata": {},
     "output_type": "display_data"
    }
   ],
   "source": [
    "# Visualize the SOM\n",
    "plt.figure(figsize=(10, 10))\n",
    "# plt.pcolor(som.distance_map().T, cmap='bone_r')\n",
    "for (x, y, z), color in zip(X, som.get_weights()):\n",
    "    plt.plot(color[0], color[1], color[2], 'o', color=plt.cm.rainbow(z / max(X))[0])\n",
    "plt.show()"
   ]
  }
 ],
 "metadata": {
  "kernelspec": {
   "display_name": "ci-assign-3",
   "language": "python",
   "name": "python3"
  },
  "language_info": {
   "codemirror_mode": {
    "name": "ipython",
    "version": 3
   },
   "file_extension": ".py",
   "mimetype": "text/x-python",
   "name": "python",
   "nbconvert_exporter": "python",
   "pygments_lexer": "ipython3",
   "version": "3.11.4"
  }
 },
 "nbformat": 4,
 "nbformat_minor": 2
}
